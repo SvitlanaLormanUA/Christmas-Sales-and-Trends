{
 "cells": [
  {
   "cell_type": "code",
   "execution_count": null,
   "id": "e2ab3afd-f768-466e-8532-9c3a7c3d7eee",
   "metadata": {},
   "outputs": [],
   "source": [
    "from IPython.core.display import HTML\n",
    "import os\n",
    "import pandas as pd\n",
    "import json\n",
    "import kagglehub\n"
   ]
  },
  {
   "cell_type": "code",
   "execution_count": null,
   "id": "f3c85b3d-a9cf-4eae-8a09-c0749d88cefc",
   "metadata": {},
   "outputs": [
    {
     "data": {
      "application/vnd.jupyter.widget-view+json": {
       "model_id": "b1edbd364a2c42349262eb07c9fe00e6",
       "version_major": 2,
       "version_minor": 0
      },
      "text/plain": [
       "VBox(children=(HTML(value='<center> <img\\nsrc=https://www.kaggle.com/static/images/site-logo.png\\nalt=\\'Kaggle…"
      ]
     },
     "metadata": {},
     "output_type": "display_data"
    }
   ],
   "source": [
    "\n",
    "# Log in to Kaggle\n",
    "kagglehub.login()\n",
    "path = kagglehub.dataset_download(\"ibikunlegabriel/christmas-sales-and-trends\")\n",
    "#print(path) \n",
    "\n",
    "dataset_file = os.path.join(path, \"Christmas Sales and Trends.csv\")\n",
    "data = pd.read_csv(dataset_file)\n",
    "\n",
    "# print column names for debugging\n",
    "#print(\"Dataset Columns:\", data.columns.tolist())\n",
    "\n"
   ]
  },
  {
   "cell_type": "code",
   "execution_count": null,
   "id": "9127ff6b-e7ba-4704-9106-5daf1f4f2675",
   "metadata": {},
   "outputs": [],
   "source": [
    "\n",
    "\n",
    "\n",
    "# print column names for debugging\n",
    "print(\"Dataset Columns:\", data.columns.tolist())\n",
    "json_data = data.to_dict(orient=\"records\")  \n",
    "\n",
    "for record in json_data:\n",
    "   if record[\"Category\"] == \"Decorations\":\n",
    "        record[\"Category\"] = \"Decorations ❄️\"\n",
    "        \n",
    "flexmonster_configs = {\n",
    "    \"container\": \"pivotContainer\",\n",
    "    \"componentFolder\": \"https://cdn.flexmonster.com/\",\n",
    "    \"toolbar\": True,\n",
    "    \"report\": {\n",
    "        \"dataSource\": {\n",
    "            \"type\": \"json\",\n",
    "            \"data\": json_data\n",
    "        },\n",
    "        \"formats\": [\n",
    "        {\n",
    "          \"name\": \"\",\n",
    "           \"decimalPlaces\": 0,\n",
    "        }\n",
    "      ],\n",
    "        \"slice\": {\n",
    "            \"rows\": [\n",
    "                {\"uniqueName\": \"Category\"},\n",
    "               \n",
    "            ],\n",
    "            \"columns\": [\n",
    "                {\"uniqueName\": \"Gender\"}\n",
    "            ],\n",
    "            \"measures\": [\n",
    "                {\n",
    "                    \"uniqueName\": \"TotalPrice\", \n",
    "                },\n",
    "                {\n",
    "                 \"uniqueName\": \"Quantity\", \n",
    "                },\n",
    "                 \n",
    "              \n",
    "            ]\n",
    "        },\n",
    "           \"options\": {\n",
    "                \"grid\": {\n",
    "                  \"showTotals\": \"off\",\n",
    "                  \"showGrandTotals\": \"off\",\n",
    "                \"layoutForm\": \"classic\",\n",
    "               }\n",
    "    }\n",
    "    }\n",
    "}\n",
    "# Function to render Flexmonster\n",
    "def pivot(flexmonster_config):\n",
    "    config_json = json.dumps(flexmonster_config)\n",
    "    code = f'''\n",
    "    <link rel=\"stylesheet\" type=\"text/css\" href=\"https://cdn.flexmonster.com/theme/accessible/flexmonster.min.css\"/>\n",
    "    <h1>Flexmonster Integration with Jupyter Notebook</h1>\n",
    "    <div id=\"pivotContainer\" style=\"height: 600px;\"></div>\n",
    "    <script src=\"https://cdn.flexmonster.com/flexmonster.js\"></script>\n",
    "    <script>\n",
    "        new Flexmonster({config_json});\n",
    "    </script>\n",
    "    '''\n",
    "    return HTML(code)\n",
    "\n",
    "# Display the pivot table\n",
    "pivot(flexmonster_configs)\n"
   ]
  }
 ],
 "metadata": {
  "kernelspec": {
   "display_name": "Python 3 (ipykernel)",
   "language": "python",
   "name": "python3"
  },
  "language_info": {
   "codemirror_mode": {
    "name": "ipython",
    "version": 3
   },
   "file_extension": ".py",
   "mimetype": "text/x-python",
   "name": "python",
   "nbconvert_exporter": "python",
   "pygments_lexer": "ipython3",
   "version": "3.13.1"
  }
 },
 "nbformat": 4,
 "nbformat_minor": 5
}
